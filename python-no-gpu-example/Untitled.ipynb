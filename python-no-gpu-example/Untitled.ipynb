{
 "cells": [
  {
   "cell_type": "code",
   "execution_count": 7,
   "id": "2412be5c-3580-4600-bc24-e1edbfc81c7b",
   "metadata": {
    "collapsed": true,
    "jupyter": {
     "outputs_hidden": true
    },
    "tags": []
   },
   "outputs": [
    {
     "name": "stdout",
     "output_type": "stream",
     "text": [
      "Using version \u001b[1m^1.9.0\u001b[0m for \u001b[36mtorch\u001b[0m\n",
      "\n",
      "\u001b[34mUpdating dependencies\u001b[0m\n",
      "\u001b[2K\u001b[34mResolving dependencies...\u001b[0m \u001b[39;2m(0.5s)\u001b[0m\n",
      "\n",
      "\u001b[34mWriting lock file\u001b[0m\n",
      "\n",
      "\u001b[1mPackage operations\u001b[0m: \u001b[34m2\u001b[0m installs, \u001b[34m0\u001b[0m updates, \u001b[34m0\u001b[0m removals\n",
      "\n",
      "  \u001b[34;1m•\u001b[0m \u001b[39mInstalling \u001b[0m\u001b[36mtyping-extensions\u001b[0m\u001b[39m (\u001b[0m\u001b[39;1m3.10.0.2\u001b[0m\u001b[39m)\u001b[0m: \u001b[34mPending...\u001b[0m\n",
      "\u001b[1A\u001b[0J  \u001b[34;1m•\u001b[0m \u001b[39mInstalling \u001b[0m\u001b[36mtyping-extensions\u001b[0m\u001b[39m (\u001b[0m\u001b[39;1m3.10.0.2\u001b[0m\u001b[39m)\u001b[0m: \u001b[34mInstalling...\u001b[0m\n",
      "\u001b[1A\u001b[0J  \u001b[32;1m•\u001b[0m \u001b[39mInstalling \u001b[0m\u001b[36mtyping-extensions\u001b[0m\u001b[39m (\u001b[0m\u001b[32m3.10.0.2\u001b[0m\u001b[39m)\u001b[0m\n",
      "  \u001b[34;1m•\u001b[0m \u001b[39mInstalling \u001b[0m\u001b[36mtorch\u001b[0m\u001b[39m (\u001b[0m\u001b[39;1m1.9.0\u001b[0m\u001b[39m)\u001b[0m: \u001b[34mPending...\u001b[0m\n",
      "\u001b[1A\u001b[0J  \u001b[34;1m•\u001b[0m \u001b[39mInstalling \u001b[0m\u001b[36mtorch\u001b[0m\u001b[39m (\u001b[0m\u001b[39;1m1.9.0\u001b[0m\u001b[39m)\u001b[0m: \u001b[34mDownloading...\u001b[0m \u001b[1m0%\u001b[0m\n",
      "\u001b[1A\u001b[0J  \u001b[34;1m•\u001b[0m \u001b[39mInstalling \u001b[0m\u001b[36mtorch\u001b[0m\u001b[39m (\u001b[0m\u001b[39;1m1.9.0\u001b[0m\u001b[39m)\u001b[0m: \u001b[34mDownloading...\u001b[0m \u001b[1m5%\u001b[0m\n",
      "\u001b[1A\u001b[0J  \u001b[34;1m•\u001b[0m \u001b[39mInstalling \u001b[0m\u001b[36mtorch\u001b[0m\u001b[39m (\u001b[0m\u001b[39;1m1.9.0\u001b[0m\u001b[39m)\u001b[0m: \u001b[34mDownloading...\u001b[0m \u001b[1m10%\u001b[0m\n",
      "\u001b[1A\u001b[0J  \u001b[34;1m•\u001b[0m \u001b[39mInstalling \u001b[0m\u001b[36mtorch\u001b[0m\u001b[39m (\u001b[0m\u001b[39;1m1.9.0\u001b[0m\u001b[39m)\u001b[0m: \u001b[34mDownloading...\u001b[0m \u001b[1m14%\u001b[0m\n",
      "\u001b[1A\u001b[0J  \u001b[34;1m•\u001b[0m \u001b[39mInstalling \u001b[0m\u001b[36mtorch\u001b[0m\u001b[39m (\u001b[0m\u001b[39;1m1.9.0\u001b[0m\u001b[39m)\u001b[0m: \u001b[34mDownloading...\u001b[0m \u001b[1m20%\u001b[0m\n",
      "\u001b[1A\u001b[0J  \u001b[34;1m•\u001b[0m \u001b[39mInstalling \u001b[0m\u001b[36mtorch\u001b[0m\u001b[39m (\u001b[0m\u001b[39;1m1.9.0\u001b[0m\u001b[39m)\u001b[0m: \u001b[34mDownloading...\u001b[0m \u001b[1m25%\u001b[0m\n",
      "\u001b[1A\u001b[0J  \u001b[34;1m•\u001b[0m \u001b[39mInstalling \u001b[0m\u001b[36mtorch\u001b[0m\u001b[39m (\u001b[0m\u001b[39;1m1.9.0\u001b[0m\u001b[39m)\u001b[0m: \u001b[34mDownloading...\u001b[0m \u001b[1m30%\u001b[0m\n",
      "\u001b[1A\u001b[0J  \u001b[34;1m•\u001b[0m \u001b[39mInstalling \u001b[0m\u001b[36mtorch\u001b[0m\u001b[39m (\u001b[0m\u001b[39;1m1.9.0\u001b[0m\u001b[39m)\u001b[0m: \u001b[34mDownloading...\u001b[0m \u001b[1m36%\u001b[0m\n",
      "\u001b[1A\u001b[0J  \u001b[34;1m•\u001b[0m \u001b[39mInstalling \u001b[0m\u001b[36mtorch\u001b[0m\u001b[39m (\u001b[0m\u001b[39;1m1.9.0\u001b[0m\u001b[39m)\u001b[0m: \u001b[34mDownloading...\u001b[0m \u001b[1m40%\u001b[0m\n",
      "\u001b[1A\u001b[0J  \u001b[34;1m•\u001b[0m \u001b[39mInstalling \u001b[0m\u001b[36mtorch\u001b[0m\u001b[39m (\u001b[0m\u001b[39;1m1.9.0\u001b[0m\u001b[39m)\u001b[0m: \u001b[34mDownloading...\u001b[0m \u001b[1m46%\u001b[0m\n",
      "\u001b[1A\u001b[0J  \u001b[34;1m•\u001b[0m \u001b[39mInstalling \u001b[0m\u001b[36mtorch\u001b[0m\u001b[39m (\u001b[0m\u001b[39;1m1.9.0\u001b[0m\u001b[39m)\u001b[0m: \u001b[34mDownloading...\u001b[0m \u001b[1m50%\u001b[0m\n",
      "\u001b[1A\u001b[0J  \u001b[34;1m•\u001b[0m \u001b[39mInstalling \u001b[0m\u001b[36mtorch\u001b[0m\u001b[39m (\u001b[0m\u001b[39;1m1.9.0\u001b[0m\u001b[39m)\u001b[0m: \u001b[34mDownloading...\u001b[0m \u001b[1m56%\u001b[0m\n",
      "\u001b[1A\u001b[0J  \u001b[34;1m•\u001b[0m \u001b[39mInstalling \u001b[0m\u001b[36mtorch\u001b[0m\u001b[39m (\u001b[0m\u001b[39;1m1.9.0\u001b[0m\u001b[39m)\u001b[0m: \u001b[34mDownloading...\u001b[0m \u001b[1m60%\u001b[0m\n",
      "\u001b[1A\u001b[0J  \u001b[34;1m•\u001b[0m \u001b[39mInstalling \u001b[0m\u001b[36mtorch\u001b[0m\u001b[39m (\u001b[0m\u001b[39;1m1.9.0\u001b[0m\u001b[39m)\u001b[0m: \u001b[34mDownloading...\u001b[0m \u001b[1m66%\u001b[0m\n",
      "\u001b[1A\u001b[0J  \u001b[34;1m•\u001b[0m \u001b[39mInstalling \u001b[0m\u001b[36mtorch\u001b[0m\u001b[39m (\u001b[0m\u001b[39;1m1.9.0\u001b[0m\u001b[39m)\u001b[0m: \u001b[34mDownloading...\u001b[0m \u001b[1m70%\u001b[0m\n",
      "\u001b[1A\u001b[0J  \u001b[34;1m•\u001b[0m \u001b[39mInstalling \u001b[0m\u001b[36mtorch\u001b[0m\u001b[39m (\u001b[0m\u001b[39;1m1.9.0\u001b[0m\u001b[39m)\u001b[0m: \u001b[34mDownloading...\u001b[0m \u001b[1m76%\u001b[0m\n",
      "\u001b[1A\u001b[0J  \u001b[34;1m•\u001b[0m \u001b[39mInstalling \u001b[0m\u001b[36mtorch\u001b[0m\u001b[39m (\u001b[0m\u001b[39;1m1.9.0\u001b[0m\u001b[39m)\u001b[0m: \u001b[34mDownloading...\u001b[0m \u001b[1m80%\u001b[0m\n",
      "\u001b[1A\u001b[0J  \u001b[34;1m•\u001b[0m \u001b[39mInstalling \u001b[0m\u001b[36mtorch\u001b[0m\u001b[39m (\u001b[0m\u001b[39;1m1.9.0\u001b[0m\u001b[39m)\u001b[0m: \u001b[34mDownloading...\u001b[0m \u001b[1m86%\u001b[0m\n",
      "\u001b[1A\u001b[0J  \u001b[34;1m•\u001b[0m \u001b[39mInstalling \u001b[0m\u001b[36mtorch\u001b[0m\u001b[39m (\u001b[0m\u001b[39;1m1.9.0\u001b[0m\u001b[39m)\u001b[0m: \u001b[34mDownloading...\u001b[0m \u001b[1m90%\u001b[0m\n",
      "\u001b[1A\u001b[0J  \u001b[34;1m•\u001b[0m \u001b[39mInstalling \u001b[0m\u001b[36mtorch\u001b[0m\u001b[39m (\u001b[0m\u001b[39;1m1.9.0\u001b[0m\u001b[39m)\u001b[0m: \u001b[34mDownloading...\u001b[0m \u001b[1m95%\u001b[0m\n",
      "\u001b[1A\u001b[0J  \u001b[34;1m•\u001b[0m \u001b[39mInstalling \u001b[0m\u001b[36mtorch\u001b[0m\u001b[39m (\u001b[0m\u001b[39;1m1.9.0\u001b[0m\u001b[39m)\u001b[0m: \u001b[34mDownloading...\u001b[0m \u001b[1m100%\u001b[0m\n",
      "\u001b[1A\u001b[0J  \u001b[34;1m•\u001b[0m \u001b[39mInstalling \u001b[0m\u001b[36mtorch\u001b[0m\u001b[39m (\u001b[0m\u001b[39;1m1.9.0\u001b[0m\u001b[39m)\u001b[0m: \u001b[34mDownloading...\u001b[0m \u001b[1m100%\u001b[0m\n",
      "\u001b[1A\u001b[0J  \u001b[34;1m•\u001b[0m \u001b[39mInstalling \u001b[0m\u001b[36mtorch\u001b[0m\u001b[39m (\u001b[0m\u001b[39;1m1.9.0\u001b[0m\u001b[39m)\u001b[0m: \u001b[34mInstalling...\u001b[0m\n",
      "\u001b[1A\u001b[0J  \u001b[32;1m•\u001b[0m \u001b[39mInstalling \u001b[0m\u001b[36mtorch\u001b[0m\u001b[39m (\u001b[0m\u001b[32m1.9.0\u001b[0m\u001b[39m)\u001b[0m\n"
     ]
    }
   ],
   "source": [
    "! poetry add torch"
   ]
  },
  {
   "cell_type": "code",
   "execution_count": 9,
   "id": "ec1684bc-e4e9-48b1-9f7e-e66a33a5fad6",
   "metadata": {},
   "outputs": [
    {
     "name": "stdout",
     "output_type": "stream",
     "text": [
      "1.9.0+cu102\n"
     ]
    },
    {
     "data": {
      "text/plain": [
       "False"
      ]
     },
     "execution_count": 9,
     "metadata": {},
     "output_type": "execute_result"
    }
   ],
   "source": [
    "import torch\n",
    "print(torch.__version__)\n",
    "torch.cuda.is_available()"
   ]
  }
 ],
 "metadata": {
  "kernelspec": {
   "display_name": "Python 3 (ipykernel)",
   "language": "python",
   "name": "python3"
  },
  "language_info": {
   "codemirror_mode": {
    "name": "ipython",
    "version": 3
   },
   "file_extension": ".py",
   "mimetype": "text/x-python",
   "name": "python",
   "nbconvert_exporter": "python",
   "pygments_lexer": "ipython3",
   "version": "3.8.12"
  }
 },
 "nbformat": 4,
 "nbformat_minor": 5
}
